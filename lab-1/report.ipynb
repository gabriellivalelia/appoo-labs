{
 "cells": [
  {
   "cell_type": "markdown",
   "id": "cc9720fe",
   "metadata": {},
   "source": [
    "# Atividade Prática 1  - Análise, Projeto e Programação Orientados a Objeto\n",
    "## (Aula 5) - 02 de setembro de 2025\n",
    "\n",
    "### Gabrielli Valelia Sousa da Silva (2022055513)"
   ]
  },
  {
   "cell_type": "markdown",
   "id": "b40fb192",
   "metadata": {},
   "source": [
    "#### Exercício 1:  Faça o diagrama UML e implemente em Python, utilizando arquivos diferentes para as classes e para o main. \n",
    "\n",
    "- Crie uma clase Bolo;\n",
    "- Crie uma instância da classe Bolo;\n",
    "- Crie dois tipos de bolo com os seguintes atributos: \n",
    "    - Nome;\n",
    "    - Recheio;\n",
    "    - Massa;\n",
    "    - Se tem cobertura - o primeiro tem e o segundo não.\n",
    "- Crie um terceiro bolo, igual ao primeiro mas sem cobertura:\n",
    "    - advindo da instância principal (crie a partir da classe com os atributos requeridos) e printe na tela a cobertura de todos os bolos;\n",
    "    - advindo do primeiro bolo (um objeto já criado), mas muda a cobertura para \"sem cobertura\" e printe na tela a cobertura de todos os bolos.\n",
    "- Explique os resultados.\n",
    "\n"
   ]
  },
  {
   "cell_type": "markdown",
   "id": "297b2843",
   "metadata": {},
   "source": [
    "##### Diagrama UML \n",
    "\n",
    "![Diagrama UML](uml.png)\n",
    "\n",
    "Como a classe Bolo não tem nehum método, a terceira linha fica em branco.\n"
   ]
  },
  {
   "cell_type": "markdown",
   "id": "1d655ecf",
   "metadata": {},
   "source": [
    "##### Código\n"
   ]
  },
  {
   "cell_type": "code",
   "execution_count": null,
   "id": "ca5ac7f7",
   "metadata": {},
   "outputs": [],
   "source": [
    "# |_bolo.py\n",
    "\n",
    "\n",
    "class Bolo:\n",
    "    def __init__(self, nome: str, recheio: str, massa: str, temCorbetura: bool):\n",
    "        self.nome = nome\n",
    "        self.recheio = recheio\n",
    "        self.massa = massa\n",
    "        self.temCorbetura = temCorbetura"
   ]
  },
  {
   "cell_type": "code",
   "execution_count": null,
   "id": "8c52d9d9",
   "metadata": {},
   "outputs": [],
   "source": [
    "# |_main.py - Instanciando o terceiro bolo com o construtor da classe Bolo\n",
    "\n",
    "from bolo import Bolo \n",
    "\n",
    "\n",
    "def main ():\n",
    "    boloDeCenouraComCobertura = Bolo(\"boloDeCenouraComCobertura\", \"chocolate\", \"cenoura\", True)\n",
    "    boloDeMorangoSemCobertura = Bolo(\"boloDeMorangoComCobertura\", \"morango\", \"branca\", False)\n",
    "    boloDeCenouraSemCobertura1 = Bolo(\"boloDeCenouraComCobertura\", \"chocolate\", \"cenoura\", False)\n",
    "    \n",
    "\n",
    "    print(\"boloDeCenouraComCobertura tem corbetura? \" + str(boloDeCenouraComCobertura.temCorbetura))\n",
    "    print(\"boloDeMorangoSemCobertura tem corbetura? \" + str(boloDeMorangoSemCobertura.temCorbetura))\n",
    "    print(\"boloDeCenouraSemCobertura1 tem corbetura? \" + str(boloDeCenouraSemCobertura1.temCorbetura))\n",
    "    \n",
    "\n",
    "\n",
    "main()\n"
   ]
  },
  {
   "cell_type": "markdown",
   "id": "492db7f3",
   "metadata": {},
   "source": [
    "> **Output:**\n",
    ">\n",
    "> ```\n",
    "> boloDeCenouraComCobertura tem corbetura? True\n",
    "> boloDeMorangoSemCobertura tem corbetura? False\n",
    "> boloDeCenouraSemCobertura1 tem corbetura? False\n",
    "> ```\n",
    "\n",
    "Como esperado, todos os bolos tem ou não cobertura de acordo com os parâmetros passados na hora da instanciação do objeto. \n"
   ]
  },
  {
   "cell_type": "code",
   "execution_count": null,
   "id": "72671b07",
   "metadata": {},
   "outputs": [],
   "source": [
    "# |_main.py - Instanciando o terceiro bolo a partir de um objeto já criado\n",
    "\n",
    "from bolo import Bolo \n",
    "\n",
    "\n",
    "def main ():\n",
    "    boloDeCenouraComCobertura = Bolo(\"boloDeCenouraComCobertura\", \"chocolate\", \"cenoura\", True)\n",
    "    boloDeMorangoSemCobertura = Bolo(\"boloDeMorangoComCobertura\", \"morango\", \"branca\", False)\n",
    "    boloDeCenouraSemCobertura2 = boloDeCenouraComCobertura\n",
    "    boloDeCenouraSemCobertura2.temCorbetura = False\n",
    "\n",
    "    print(\"boloDeCenouraComCobertura tem corbetura? \" + str(boloDeCenouraComCobertura.temCorbetura))\n",
    "    print(\"boloDeMorangoSemCobertura tem corbetura? \" + str(boloDeMorangoSemCobertura.temCorbetura))\n",
    "    print(\"boloDeCenouraSemCobertura2 tem corbetura? \" + str(boloDeCenouraSemCobertura2.temCorbetura))\n",
    "\n",
    "\n",
    "main()\n"
   ]
  },
  {
   "cell_type": "markdown",
   "id": "c59383ed",
   "metadata": {},
   "source": [
    "> **Output:**\n",
    ">\n",
    "> ```\n",
    ">boloDeCenouraComCobertura tem corbetura? False\n",
    ">boloDeMorangoSemCobertura tem corbetura? False\n",
    ">boloDeCenouraSemCobertura2 tem corbetura? False\n",
    ">```\n",
    "\n",
    "Ao contrário do esperado, o objeto boloDeCenouraComCobertura teve seu atributo temCorbetura alterado para *False*. Isso ocorre porque, ao atribuir um objeto diretamente a outro, na verdade estamos apenas copiando o endereço de memória. Dessa forma, tanto o boloDeCenouraComCobertura quanto o boloDeCenouraSemCobertura 2 passam a apontar para a mesma referência. Assim, ao alterar a propriedade temCobertura em um deles, a modificação afeta automaticamente o outro."
   ]
  }
 ],
 "metadata": {
  "kernelspec": {
   "display_name": "Python 3",
   "language": "python",
   "name": "python3"
  },
  "language_info": {
   "codemirror_mode": {
    "name": "ipython",
    "version": 3
   },
   "file_extension": ".py",
   "mimetype": "text/x-python",
   "name": "python",
   "nbconvert_exporter": "python",
   "pygments_lexer": "ipython3",
   "version": "3.12.3"
  }
 },
 "nbformat": 4,
 "nbformat_minor": 5
}
