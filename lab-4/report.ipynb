{
 "cells": [
  {
   "cell_type": "markdown",
   "id": "c9c611e4",
   "metadata": {},
   "source": [
    "#### Exercício 4:   Inspirado no exercício anterior, crie suas próprias classes para um exemplo que realize mensagem entre objetos. O código deverá ter no mínimo 2 classes e 1 main. Deve haver entrada de dados do usuário e mensagens de saída. Deve haver verificação de erros. O código deve conter um propósito real. Faça o código e o diagrama UML. Mostre prints dos resultados.\n",
    "\n",
    "Proposta: \n",
    "- Classe Aluno:\n",
    "    - Atributos -> nome, matricula\n",
    "    - Métodos -> reagirAProva(), que recebe a dificuldade da prova como parâmetro e retorna uma reação e o nível de estudo necessário baseado na dificuldade da prova (Inteiro de 1 a 5)\n",
    "- Classe Prova:\n",
    "    - Atributos -> disciplina, dificuldade\n",
    "    - Métodos -> setDificuldade() que popula o campo *dificuldade* e tem as validações necessárias para que o valor seja um inteiro de 1 a 5, avisarProvaParaAluno() que recebe um aluno como parâmetro e chama o método reagirAProva() do aluno e printa sua reação.\n"
   ]
  },
  {
   "cell_type": "markdown",
   "id": "43f9099b",
   "metadata": {},
   "source": [
    "##### Diagrama UML \n",
    "\n",
    "![Diagrama UML](uml.png)"
   ]
  },
  {
   "cell_type": "markdown",
   "id": "319fda06",
   "metadata": {},
   "source": [
    "##### Código \n"
   ]
  },
  {
   "cell_type": "code",
   "execution_count": null,
   "id": "dd2f3643",
   "metadata": {},
   "outputs": [],
   "source": [
    "# |_aluno.py\n",
    "\n",
    "class Aluno: \n",
    "    def __init__(self, nome, matricula):\n",
    "        self.nome = nome\n",
    "        self.matricula = matricula\n",
    "    \n",
    "    def reagirAProva(self, dificuldadeDaProva: int):\n",
    "        estudoNecessario = \"\"\n",
    "        reacao = \"\"\n",
    "        \n",
    "        if dificuldadeDaProva == 1:\n",
    "            estudoNecessario = \"Metade senso comum e metade malemolejo\"\n",
    "            reacao = \"(^⁻^)\"\n",
    "        elif dificuldadeDaProva == 2:\n",
    "            estudoNecessario = \"Uma lida nos slides\"\n",
    "            reacao = \"(o_o)\"\n",
    "        elif dificuldadeDaProva == 3:\n",
    "            estudoNecessario = \"Fazer os exercicios pares\"\n",
    "            reacao = \"(O_O)\"\n",
    "        elif dificuldadeDaProva == 4:\n",
    "            estudoNecessario = \"Jantar o livro à milanesa\"\n",
    "            reacao = \"(T_T)\"\n",
    "        elif dificuldadeDaProva == 5:\n",
    "            estudoNecessario = \"Torcer para um milagre\"\n",
    "            reacao = \" (╯°□°）╯︵ ┻━┻\"\n",
    "        \n",
    "        return estudoNecessario, reacao\n",
    "    "
   ]
  },
  {
   "cell_type": "code",
   "execution_count": null,
   "id": "2f2d8e13",
   "metadata": {},
   "outputs": [],
   "source": [
    "# |_prova.py\n",
    "\n",
    "from aluno import Aluno\n",
    "\n",
    "class Prova:\n",
    "    def __init__(self):\n",
    "        self.disciplina = input(\"Insira a disciplina da prova: \")\n",
    "        self.dificuldade = self.setDificuldade()\n",
    "\n",
    "    def setDificuldade(self):\n",
    "        while True:\n",
    "            try:\n",
    "                value =  int(input(\"Insira a dificuldade da prova de 1 a 5: \"))\n",
    "                if(value < 1 or value > 5):\n",
    "                    print(\"Por favor, insira um número de 1 a 5.\")\n",
    "                else: \n",
    "                    return value\n",
    "            except ValueError:\n",
    "                print(\"Por favor, insira um número.\")\n",
    "    \n",
    "    def avisarProvaParaAluno(self, aluno: Aluno):\n",
    "        estudoNecessario, reacao = aluno.reagirAProva(self.dificuldade)\n",
    "\n",
    "        print(f\"Ao saber da prova, a mais honesta reação do(a) aluno(a) {aluno.nome}, com matrícula {aluno.matricula} foi {reacao} pois sabia que precisaria de {estudoNecessario} para a prova de dificuldade {self.dificuldade} de {self.disciplina}\")\n"
   ]
  },
  {
   "cell_type": "code",
   "execution_count": null,
   "id": "4b394742",
   "metadata": {},
   "outputs": [],
   "source": [
    "# |_main.py\n",
    "\n",
    "from aluno import Aluno\n",
    "from prova import Prova\n",
    "\n",
    "def main():\n",
    "    # Aluno fixo\n",
    "    aluno = Aluno(\"Gabrielli\", \"2022055513\")\n",
    "    prova = Prova()\n",
    "\n",
    "    prova.avisarProvaParaAluno(aluno)\n",
    "\n",
    "\n",
    "main()"
   ]
  },
  {
   "cell_type": "markdown",
   "id": "4d0b0d4d",
   "metadata": {},
   "source": [
    "#### Casos de teste: \n",
    "\n",
    "1 - Tentar instanciar uma prova com os parâmetros *disciplina* = \"Conversão\" e *dificuldade* = *\"teste\"*\n",
    "> Output:\n",
    ">   Por favor, insira um número.\n",
    "\n",
    "2 - Tentar instanciar uma prova com o parâmetros *disciplina* = \"Conversão\" e *dificuldade* = *10*\n",
    "> Output:\n",
    ">   Por favor, insira um número de 1 a 5.\n",
    "\n",
    "3 - Tentar instanciar uma prova com o parâmetros *disciplina* = \"Conversão\" e *dificuldade* = *-1*\n",
    "> Output:\n",
    ">   Por favor, insira um número de 1 a 5.\n",
    "\n",
    "4 - Tentar instanciar uma prova *disciplina* = \"Circuitos 3\" e *dificuldade* = 1\n",
    "> Output:\n",
    ">   Ao saber da prova, a mais honesta reação do(a) aluno(a) Gabrielli, com matrícula 2022055513 foi (^⁻^) pois sabia que precisaria de Metade senso comum e metade malemolejo para a prova de dificuldade 1 de Circuitos 3\n",
    "\n",
    "5 - Tentar instanciar uma prova *disciplina* = \"EDB\" e *dificuldade* = 2\n",
    "> Output:\n",
    ">   Ao saber da prova, a mais honesta reação do(a) aluno(a) Gabrielli, com matrícula 2022055513 foi (o_o) pois sabia que precisaria de Uma lida nos slides para a prova de dificuldade 2 de EDB\n",
    "\n",
    "6 - Tentar instanciar uma prova *disciplina* = \"Cálculo 1\" e *dificuldade* = 3\n",
    "> Output:\n",
    ">   Ao saber da prova, a mais honesta reação do(a) aluno(a) Gabrielli, com matrícula 2022055513 foi (O_O) pois sabia que precisaria de Fazer os exercicios pares para a prova de dificuldade 3 de Cálculo 1\n",
    "\n",
    "7 - Tentar instanciar uma prova *disciplina* = \"Polifásicos\" e *dificuldade* = 4\n",
    "> Output:\n",
    ">   Ao saber da prova, a mais honesta reação do(a) aluno(a) Gabrielli, com matrícula 2022055513 foi (T_T) pois sabia que precisaria de Jantar o livro à milanesa para a prova de dificuldade 4 de Polifásicos\n",
    "\n",
    "8 - Tentar instanciar uma prova *disciplina* = \"Conversão\" e *dificuldade* = 5\n",
    "> Output:\n",
    ">   Ao saber da prova, a mais honesta reação do(a) aluno(a) Gabrielli, com matrícula 2022055513 foi  (╯°□°）╯︵ ┻━┻ pois sabia que precisaria de Torcer para um milagre para a prova de dificuldade 5 de Conversão"
   ]
  }
 ],
 "metadata": {
  "language_info": {
   "name": "python"
  }
 },
 "nbformat": 4,
 "nbformat_minor": 5
}
