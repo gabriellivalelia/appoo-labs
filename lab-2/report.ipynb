{
 "cells": [
  {
   "cell_type": "markdown",
   "id": "18647877",
   "metadata": {},
   "source": [
    "#### Exercício 2:  Faça o diagrama UML e implemente em Python, utilizando arquivos diferentes para as classes e para o main. Faça testes recursivos de possíveis erros de valor inseridos pelo usuário\n",
    "\n",
    "- Crie uma clase FazBolo;\n",
    "- Crie um construtor com *massa*, *recheio* e *cobertura*;\n",
    "- Crie um método chamado *assar*, cujos atributos sejam se usará \"fogo alto\", \"fogo medio\" ou \"fogo baixo\" (temperatura) e o tempo em minutos que o bolo ficará assando; \n",
    "- Printe: Você está querendo assar o bolo de *massa* com recheio de *recheio* e cobertura de *cobertura* em *temperatura* inseridos pelo usuário;\n",
    "- Crie prints com avisos que achar necessários considerando as seguintes condições:\n",
    "    - Para o fogo alto, o bolo assa em 10 minutos. Antes fica cru e depois ele queima;\n",
    "    - Para o fogo medio, o bolo assa em 30 minutos. Antes fica cru e depois ele queima;\n",
    "    - Para o fogo baixo, o bolo assa em 45 minutos. Antes fica cru e depois ele queima.\n",
    "- Considere restrições para números negativos ou valores absurdos.\n",
    "\n"
   ]
  },
  {
   "cell_type": "markdown",
   "id": "538edac2",
   "metadata": {},
   "source": [
    "##### Diagrama UML \n",
    "\n",
    "![Diagrama UML](uml.png)\n",
    "\n"
   ]
  },
  {
   "cell_type": "markdown",
   "id": "bb04e8c3",
   "metadata": {},
   "source": [
    "##### Código \n"
   ]
  },
  {
   "cell_type": "code",
   "execution_count": 1,
   "id": "d0883e40",
   "metadata": {},
   "outputs": [],
   "source": [
    "# |_fazBolo.py\n",
    "\n",
    "class FazBolo: \n",
    "    def __init__(self, massa: str, recheio: str, cobertura: str):\n",
    "        self.massa = massa\n",
    "        self.recheio = recheio\n",
    "        self.cobertura = cobertura\n",
    "    \n",
    "    def assar(self):\n",
    "        while True:\n",
    "            temperatura = input(\"Insira a temperatura (fogo baixo, medio ou alto): \")\n",
    "\n",
    "            # Valida se a temperatura é um dos três valores esperados pelo sistema. Se não, reincia o loop.\n",
    "            if not (temperatura == \"fogo alto\" or temperatura == \"fogo medio\" or temperatura == \"fogo baixo\"):\n",
    "                print(\"Temperatura inválida. Use: fogo baixo, fogo medio ou fogo alto.\")\n",
    "                continue\n",
    "            \n",
    "            # Valida se o tempo inserido é um inteiro não negativo. Se não, reincia o loop.\n",
    "            try:\n",
    "                tempo = int(input(\"Insira o tempo que vai deixar o bolo assando (em minutos): \"))\n",
    "                if tempo < 0:\n",
    "                    print(\"Não dá pra desassar o bolo 😅.\")\n",
    "                    continue\n",
    "            except ValueError:\n",
    "                print(\"O tempo deve ser um número inteiro.\")\n",
    "                continue\n",
    "\n",
    "            # Se todos os parâmetros estiverem certos, avalia o bolo. \n",
    "            print(f\"\\nVocê quer assar um bolo de massa {self.massa}, recheio {self.recheio}, cobertura {self.cobertura}, no {temperatura} por {tempo} minutos.\")\n",
    "            # Avalia se o bolo ficará cru, bom ou queimado\n",
    "            print(self.avaliarBolo(temperatura, tempo))\n",
    "\n",
    "    def avaliarBolo(self, temperatura: str, tempo: int):\n",
    "        temposIdeais = {\n",
    "            \"fogo alto\": 10,\n",
    "            \"fogo medio\": 35,\n",
    "            \"fogo baixo\": 45\n",
    "        }\n",
    "\n",
    "        if tempo > temposIdeais[temperatura]:\n",
    "            return \"Seu bolo vai queimar.\"\n",
    "        elif tempo < temposIdeais[temperatura]:\n",
    "            return \"Seu bolo vai ficar cru.\"\n",
    "        return \"Me chama pro café.\"\n",
    "\n"
   ]
  },
  {
   "cell_type": "code",
   "execution_count": null,
   "id": "8bc57f3c",
   "metadata": {},
   "outputs": [],
   "source": [
    "# |_main.py \n",
    "\n",
    "from fazBolo import FazBolo\n",
    "    \n",
    "\n",
    "def main():\n",
    "    fazBolo = FazBolo(\"chocolate\", \"maracuja\", \"brigadeiro\")\n",
    "    fazBolo.assar()\n",
    "\n",
    "\n",
    "main()\n"
   ]
  },
  {
   "cell_type": "markdown",
   "id": "bcb6a4bc",
   "metadata": {},
   "source": [
    "#### Casos de teste: \n",
    "\n",
    "1 - *Temperatura* = *\"fogo\"*\n",
    ">Output: \n",
    ">   Temperatura inválida. Use: fogo baixo, fogo medio ou fogo alto.\n",
    "\n",
    "2 - *Temperatura* = *180*\n",
    ">Output: \n",
    ">    Temperatura inválida. Use: fogo baixo, fogo medio ou fogo alto.\n",
    "\n",
    "3 - *Temperatura* = *\"fogo alto\"* e *tempo* = *\"1 hora\"*\n",
    ">Output:\n",
    ">   O tempo deve ser um número inteiro.\n",
    "\n",
    "4 - *Temperatura* = *\"fogo alto\"* e *tempo* = *-2*\n",
    ">Output:\n",
    ">   Não dá pra desassar o bolo 😅.\n",
    "\n",
    "5 - *Temperatura* = *\"fogo baixo\"* e *tempo* = *15*\n",
    ">Output:\n",
    ">   Você quer assar um bolo de massa chocolate, recheio maracuja, cobertura brigadeiro, no fogo baixo por 15 minutos.\n",
    ">   Seu bolo vai ficar cru.\n",
    "\n",
    "6 - *Temperatura* = *\"fogo medio\"* e *tempo* = *35*\n",
    ">Output:\n",
    ">   Você quer assar um bolo de massa chocolate, recheio maracuja, cobertura brigadeiro, no fogo medio por 35 minutos.\n",
    ">   Me chama pro café.\n",
    "\n",
    "7 - *Temperatura* = *\"fogo alto\"* e *tempo* = *20*\n",
    ">Output:\n",
    ">   Você quer assar um bolo de massa chocolate, recheio maracuja, cobertura brigadeiro, no fogo alto por 20 minutos.\n",
    ">   Seu bolo vai queimar.\n"
   ]
  }
 ],
 "metadata": {
  "kernelspec": {
   "display_name": "Python 3",
   "language": "python",
   "name": "python3"
  },
  "language_info": {
   "codemirror_mode": {
    "name": "ipython",
    "version": 3
   },
   "file_extension": ".py",
   "mimetype": "text/x-python",
   "name": "python",
   "nbconvert_exporter": "python",
   "pygments_lexer": "ipython3",
   "version": "3.12.3"
  }
 },
 "nbformat": 4,
 "nbformat_minor": 5
}
