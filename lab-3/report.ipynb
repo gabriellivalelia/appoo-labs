{
 "cells": [
  {
   "cell_type": "markdown",
   "id": "07ea1613",
   "metadata": {},
   "source": [
    "#### Exercício 3:  Faça o diagrama UML e implemente em Python, utilizando arquivos diferentes para as classes e para o main. Crie testes e mensagens de erros para solicitações que geram erros\n",
    "\n",
    "Considere que você está desenvolvendo um sistema para auxiliar na administração de um hotel. Você deve implementar duas classes em Python: Hotel e Cliente. A classe Cliente representa um hóspede do hotel, enquando a classe Hotel representa o pŕoprio estabelecimento. Siga as instruções abaixo para desenvolver o código:\n",
    "\n",
    "- Classe Cliente:\n",
    "    - Atributos -> nome, diasEstadia, consumoRestaurante;\n",
    "    - Implemente um método chamado fornecerValorConta que calcule e retorne o valor total da conta do cliente\n",
    "    - Cada dia de estadia tem o custo de R$100,00 e cada refeição tem o custo de R$50,00\n",
    "- Classe Hotel:\n",
    "    - Crie uma classe chama Hotel com o atributo nomeHotel\n",
    "    - Implemente um método chamado determinarContaCliente que receba como parâmetro um objeto do tipo Cleinte e retorno o valor da conta do cliente. \n",
    "- Instruções adicionais:\n",
    "    - Na função main(), crie um cliente e um hotel utilizando dados fictícios\n",
    "    - Solicite ao hotel que determine a conta do cliente criado\n",
    "    - Imprima uma mensagem informando o valor da conta do cliente, incluindo todas as informações relevantes: \"O cliente {nome do cliente} que ficou {dias de estadia} dias no hotel {nome do hotel} e consumiu ao todo {quantidade de refeições} refeições teve a conta de R${valor da conta}. \n",
    "\n"
   ]
  },
  {
   "cell_type": "markdown",
   "id": "3b23fcfa",
   "metadata": {},
   "source": [
    "##### Diagrama UML \n",
    "\n",
    "![Diagrama UML](uml1.png)"
   ]
  },
  {
   "cell_type": "markdown",
   "id": "d544d3b6",
   "metadata": {},
   "source": [
    "##### Código \n"
   ]
  },
  {
   "cell_type": "code",
   "execution_count": null,
   "id": "5a6823ea",
   "metadata": {},
   "outputs": [],
   "source": [
    "# |_cliente.py\n",
    "\n",
    "class Cliente: \n",
    "    def __init__(self, nome: str):\n",
    "        self.nome = nome\n",
    "        self.diasEstadia = self.setValor(\"Informe o número de dias que o cliente permaneceu no hotel: \")\n",
    "        self.consumoRestaurante = self.setValor(\"Informe a quantidade total de refeições que o cliente consumiu: \")\n",
    "\n",
    "    def fornecaValorConta(self, valorDiaria: float, valorRefeicao: float):\n",
    "        return self.diasEstadia*valorDiaria + self.consumoRestaurante*valorRefeicao\n",
    "    \n",
    "    def setValor(self, msg: str):\n",
    "        while True:\n",
    "            try:\n",
    "                value =  int(input(msg))\n",
    "                if(value < 0):\n",
    "                    print(\"Por favor, insira um número não negativo.\")\n",
    "                else: \n",
    "                    return value\n",
    "            except ValueError:\n",
    "                print(\"Por favor, insira um número inteiro válido.\")"
   ]
  },
  {
   "cell_type": "code",
   "execution_count": null,
   "id": "16fe980d",
   "metadata": {},
   "outputs": [],
   "source": [
    "# |_hotel.py\n",
    "\n",
    "from cliente import Cliente\n",
    "\n",
    "class Hotel: \n",
    "    def __init__(self, nomeHotel: str):\n",
    "        self.nomeHotel = nomeHotel\n",
    "        self.valorDiaria = 100.00\n",
    "        self.valorRefeicao = 50.00\n",
    "\n",
    "    def determineContaCliente(self, cliente: Cliente):\n",
    "        return cliente.fornecaValorConta(self.valorDiaria, self.valorRefeicao)\n",
    "    "
   ]
  },
  {
   "cell_type": "code",
   "execution_count": null,
   "id": "5372dce4",
   "metadata": {},
   "outputs": [],
   "source": [
    "# |_main.py\n",
    "\n",
    "from cliente import Cliente\n",
    "from hotel import Hotel\n",
    "\n",
    "def main():\n",
    "    while(True):\n",
    "\n",
    "        cliente = Cliente(\"Gabrielli\")\n",
    "        hotel = Hotel(\"China Park\")\n",
    "\n",
    "        contaDoCliente =  hotel.determineContaCliente(cliente)\n",
    "\n",
    "        print(f\"O cliente {cliente.nome} que ficou {cliente.diasEstadia} dias no hotel {hotel.nomeHotel} e consumiu ao todo {cliente.consumoRestaurante} refeições teve a conta de R${contaDoCliente}\")\n",
    "\n",
    "main()"
   ]
  },
  {
   "cell_type": "markdown",
   "id": "0615cf1d",
   "metadata": {},
   "source": [
    "#### Casos de teste: \n",
    "\n",
    "1 - Tentar instanciar um cliente com o parâmetro *diasEstadia* = *\"teste\"*\n",
    "> Output:\n",
    ">   Por favor, insira um número inteiro válido.\n",
    "\n",
    "2 - Tentar instanciar um cliente com o parâmetro *diasEstadia* = *-1*\n",
    "> Output:\n",
    ">   Por favor, insira um número não negativo.\n",
    "\n",
    "3 - Tentar instanciar um cliente com o parâmetro *diasEstadia* = *10* e *consumoRestaurante* = *\"teste\"*\n",
    "> Output:\n",
    ">   Por favor, insira um número inteiro válido.\n",
    "\n",
    "4 - Tentar instanciar um cliente com o parâmetro *diasEstadia* = *10* e *consumoRestaurante* = *-1*\n",
    "> Output:\n",
    ">   Por favor, insira um número não negativo.\n",
    "\n",
    "5 - Tentar instanciar um cliente com o parâmetro *diasEstadia* = *10* e *consumoRestaurante* = *0*\n",
    "> Output:\n",
    ">   O cliente Gabrielli que ficou 10 dias no hotel China Park e consumiu ao todo 0 refeições teve a conta de R$1000.0\n",
    "\n",
    "6 - Tentar instanciar um cliente com o parâmetro *diasEstadia* = *10* e *consumoRestaurante* = *10*\n",
    "> Output:\n",
    ">   O cliente Gabrielli que ficou 10 dias no hotel China Park e consumiu ao todo 10 refeições teve a conta de R$1500.0\n",
    "\n",
    "7 - Tentar instanciar um cliente com o parâmetro *diasEstadia* = *1* e *consumoRestaurante* = *1*\n",
    "> Output:\n",
    ">   O cliente Gabrielli que ficou 1 dias no hotel China Park e consumiu ao todo 1 refeições teve a conta de R$150.0"
   ]
  }
 ],
 "metadata": {
  "language_info": {
   "name": "python"
  }
 },
 "nbformat": 4,
 "nbformat_minor": 5
}
